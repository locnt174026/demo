{
  "nbformat": 4,
  "nbformat_minor": 0,
  "metadata": {
    "accelerator": "GPU",
    "colab": {
      "name": "Transfer Learning-Template.ipynb",
      "provenance": [],
      "collapsed_sections": [],
      "machine_shape": "hm",
      "include_colab_link": true
    },
    "kernelspec": {
      "display_name": "Python 3",
      "name": "python3"
    },
    "language_info": {
      "name": "python"
    }
  },
  "cells": [
    {
      "cell_type": "markdown",
      "metadata": {
        "id": "view-in-github",
        "colab_type": "text"
      },
      "source": [
        "<a href=\"https://colab.research.google.com/github/nguyentienlocsmile/demo/blob/main/Transfer_Learning_Template.ipynb\" target=\"_parent\"><img src=\"https://colab.research.google.com/assets/colab-badge.svg\" alt=\"Open In Colab\"/></a>"
      ]
    },
    {
      "cell_type": "markdown",
      "metadata": {
        "id": "zxh9zNGJtPSa"
      },
      "source": [
        "Speaker: Ba Ngoc - Founder @ProtonX @VietAI Hanoi"
      ]
    },
    {
      "cell_type": "markdown",
      "metadata": {
        "id": "qqwLDcQRwse3"
      },
      "source": [
        "- Bài tập phân loại ảnh sử dụng Transfer Learning - Bài tập có 4 phần cần hoàn thành"
      ]
    },
    {
      "cell_type": "code",
      "metadata": {
        "id": "mWyIZ7j_TQQN",
        "cellView": "form"
      },
      "source": [
        "#@title 1. Tải dữ liệu\n",
        "train_folder = './data/cats_and_dogs_filtered/train'\n",
        "valid_folder = './data/cats_and_dogs_filtered/validation'\n",
        "\n",
        "!wget --no-check-certificate \\\n",
        "  https://storage.googleapis.com/mledu-datasets/cats_and_dogs_filtered.zip \\\n",
        "  -O ./cats_and_dogs_filtered.zip\n",
        "\n",
        "# Giải nén dữ liệu\n",
        "main_folder = './data'\n",
        "!unzip -q cats_and_dogs_filtered.zip -d $main_folder"
      ],
      "execution_count": null,
      "outputs": []
    },
    {
      "cell_type": "code",
      "metadata": {
        "id": "uya697jmsWHh"
      },
      "source": [
        "# Sử dụng colab để review ảnh"
      ],
      "execution_count": null,
      "outputs": []
    },
    {
      "cell_type": "code",
      "metadata": {
        "id": "YNxIInuAROwj",
        "cellView": "form"
      },
      "source": [
        "#@title 2. Tải Pretrained model - Inception V3\n",
        "\n",
        "!wget --no-check-certificate \\\n",
        "    https://storage.googleapis.com/mledu-datasets/inception_v3_weights_tf_dim_ordering_tf_kernels_notop.h5 \\\n",
        "    -O ./inception_v3_weights_tf_dim_ordering_tf_kernels_notop.h5"
      ],
      "execution_count": null,
      "outputs": []
    },
    {
      "cell_type": "code",
      "metadata": {
        "id": "MiXsf0mcRmYU",
        "cellView": "code"
      },
      "source": [
        "import os\n",
        "\n",
        "from tensorflow.keras import layers\n",
        "from tensorflow.keras import Model\n",
        "\n",
        "\n",
        "# 1. Sử dụng kiến trúc của mô hình\n",
        "from tensorflow.keras.applications.inception_v3 import InceptionV3\n",
        "\n",
        "# 2. Khởi tạo mô hình\n",
        "pre_trained_model = #### TODO 1: Sử dụng mô hình InceptionV3\n",
        "\n",
        "local_weights_file = './inception_v3_weights_tf_dim_ordering_tf_kernels_notop.h5'\n",
        "\n",
        "# 3. Load tham số đã được train vào mô hình\n",
        "pre_trained_model.load_weights(local_weights_file)"
      ],
      "execution_count": null,
      "outputs": []
    },
    {
      "cell_type": "code",
      "metadata": {
        "id": "TiEa0eNZsqym"
      },
      "source": [
        "# 4. Đóng băng (freeze) các lớp, trường hợp này chỉ sử dụng các tham số này \n",
        "# để inference (dự đoán) mà không sử dụng để training \n",
        "\n",
        "# 5. Câu hỏi (Có thể sử dụng các tham số này để tiếp tục huấn luyên không - Câu trả lời: Có)\n",
        "for layer in pre_trained_model.layers:\n",
        "  #### TODO 2: Cài đặt đóng băng các layer"
      ],
      "execution_count": null,
      "outputs": []
    },
    {
      "cell_type": "code",
      "metadata": {
        "id": "tUDP0wb7SQe1"
      },
      "source": [
        "# 6. Lấy layer ta muốn gắn thêm lớp phân loại theo bài toán của mình\n",
        "\n",
        "#### TODO 3: Sử dụng lại mô hình đến layer mixed7\n",
        "\n",
        "\n",
        "last_output = last_layer.output"
      ],
      "execution_count": null,
      "outputs": []
    },
    {
      "cell_type": "code",
      "metadata": {
        "id": "aerV2CPkTDa5"
      },
      "source": [
        "last_output"
      ],
      "execution_count": null,
      "outputs": []
    },
    {
      "cell_type": "markdown",
      "metadata": {
        "id": "zKra1R9IhB7n"
      },
      "source": [
        "# 5. Xây dựng mô hình"
      ]
    },
    {
      "cell_type": "code",
      "metadata": {
        "id": "d7el-gg0TE-U"
      },
      "source": [
        "from tensorflow.keras.optimizers import RMSprop\n",
        "\n",
        "# 7. Duỗi features map thu được và đựa vào mạng nơ ron để phân loại\n",
        "x = layers.Flatten()(last_output)\n",
        "# 8. Thêm một lớp Dense\n",
        "x = layers.Dense(1024, activation='relu')(x)\n",
        "# 9. Thêm một lớp Dropout để cải thiện tính tổng quát của mô hình - tránh overfiting\n",
        "x = layers.Dropout(0.2)(x)                  \n",
        "# 10. Sử dụng activation sigmoid để phân loại 2 lớp\n",
        "x = layers.Dense(1, activation='sigmoid')(x)           \n",
        "\n",
        "# 11. Gắn mô hình phân loại của chúng ta vào pre trained model\n",
        "model = Model( pre_trained_model.input, x) \n",
        "\n",
        "# 12. Bổ sung thuật toán trainining. RMSProp có khả năng điều chỉnh tốc độc học dựa vào độ lớn của đạo hàm\n",
        "\n",
        "#### TODO 4: Compile thuật toán\n",
        "              "
      ],
      "execution_count": null,
      "outputs": []
    },
    {
      "cell_type": "code",
      "metadata": {
        "cellView": "form",
        "id": "p3TtBV-LvvfH"
      },
      "source": [
        "#@title Hiển thị mô hình\n",
        "import tensorflow as tf\n",
        "tf.keras.utils.plot_model(\n",
        "    model,\n",
        "    to_file=\"model.png\",\n",
        "    show_shapes=False,\n",
        "    show_dtype=False,\n",
        "    show_layer_names=True,\n",
        "    rankdir=\"TB\",\n",
        "    expand_nested=False,\n",
        "    dpi=96,\n",
        ")"
      ],
      "execution_count": null,
      "outputs": []
    },
    {
      "cell_type": "code",
      "metadata": {
        "id": "HnIxj7qvTrhz",
        "cellView": "form"
      },
      "source": [
        "#@title Tăng cường data\n",
        "from tensorflow.keras.preprocessing.image import ImageDataGenerator\n",
        "\n",
        "# 13. Bổ sung tăng cường data cho tập train\n",
        "train_datagen = ImageDataGenerator(rescale = 1./255.,\n",
        "                                   rotation_range = 40,\n",
        "                                   width_shift_range = 0.2,\n",
        "                                   height_shift_range = 0.2,\n",
        "                                   shear_range = 0.2,\n",
        "                                   zoom_range = 0.2,\n",
        "                                   horizontal_flip = True)\n",
        "\n",
        "# 13. Không bổ sung tăng cường data cho tập validation\n",
        "validation_datagen = ImageDataGenerator( rescale = 1.0/255. )\n",
        "\n",
        "# 14. Tiến hành load ảnh từ thư mục với tập train\n",
        "train_generator = train_datagen.flow_from_directory(train_folder,\n",
        "                                                    batch_size = 20,\n",
        "                                                    class_mode = 'binary', \n",
        "                                                    target_size = (150, 150))     \n",
        "\n",
        "# 15. Tiến hành load ảnh từ thư mục với tập validation\n",
        "validation_generator =  validation_datagen.flow_from_directory( valid_folder,\n",
        "                                                          batch_size  = 20,\n",
        "                                                          class_mode  = 'binary', \n",
        "                                                          target_size = (150, 150))"
      ],
      "execution_count": null,
      "outputs": []
    },
    {
      "cell_type": "code",
      "metadata": {
        "id": "NTiKkKY53rPq"
      },
      "source": [
        "train_generator.class_indices"
      ],
      "execution_count": null,
      "outputs": []
    },
    {
      "cell_type": "code",
      "metadata": {
        "colab": {
          "background_save": true
        },
        "id": "KqL65gdiUR4J"
      },
      "source": [
        "# 16. Tiến hành training \n",
        "\n",
        "#### TODO 5: Tiến hành training"
      ],
      "execution_count": null,
      "outputs": []
    },
    {
      "cell_type": "markdown",
      "metadata": {
        "id": "3SnLavZShfnQ"
      },
      "source": [
        "# 6. Tải ảnh của bạn và tiến hành dự đoán"
      ]
    },
    {
      "cell_type": "code",
      "metadata": {
        "id": "PtN8hBCkhha9"
      },
      "source": [
        "#@title Tải ảnh\n",
        "from google.colab import files\n",
        "import matplotlib.pyplot as plt\n",
        "import numpy as np\n",
        "from PIL import Image\n",
        "\n",
        "uploaded = files.upload()\n",
        "\n",
        "for fn in uploaded.keys():\n",
        "  print('User uploaded file \"{name}\" with length {length} bytes'.format(\n",
        "      name=fn, length=len(uploaded[fn])))\n",
        "  \n",
        "  image = plt.imread(fn)\n",
        "  plt.imshow(image)\n",
        "  \n",
        "\n",
        "  image = Image.open(fn)\n",
        "  # img = Image.fromarray(arr)\n",
        "  image = image.resize(size=(150, 150))\n",
        "\n",
        "  plt.imshow(image)\n",
        "  data = np.asarray(image)\n",
        "  data=np.expand_dims(data, 0)\n",
        "  x = data / 255.0\n",
        "  fi = model.predict(x)\n",
        "  print(fi)\n",
        "  print('Dog with output: {}'.format(fi[0])) if fi >= 0.5 else print('Cat with output: {}'.format(fi[0]))"
      ],
      "execution_count": null,
      "outputs": []
    }
  ]
}